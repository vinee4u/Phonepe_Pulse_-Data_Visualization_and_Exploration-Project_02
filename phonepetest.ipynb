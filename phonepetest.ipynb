{
 "cells": [
  {
   "cell_type": "code",
   "execution_count": 87,
   "metadata": {},
   "outputs": [],
   "source": [
    "import os\n",
    "\n",
    "import json\n",
    "\n",
    "import pandas as pd\n"
   ]
  },
  {
   "cell_type": "code",
   "execution_count": 95,
   "metadata": {},
   "outputs": [],
   "source": [
    "#aggre_transaction\n",
    "path1 =\"C:/Users/VIGNESH/Desktop/Phonepe/pulse/data/aggregated/transaction/country/india/state/\"\n",
    "agg_tran_list = os.listdir(path1)\n",
    "\n",
    "\n",
    "columns1 ={\"States\":[], \"Years\":[], \"Quarter\":[], \"Transaction_type\":[], \"Transaction_count\":[],\"Transaction_amount\":[] }\n",
    "\n",
    "\n",
    "for state in agg_tran_list:\n",
    "    cur_states =path1+state+\"/\"\n",
    "    agg_year_list = os.listdir(cur_states)\n",
    "    \n",
    "    for year in agg_year_list:\n",
    "        cur_years = cur_states+year+\"/\"\n",
    "        agg_file_list = os.listdir(cur_years)\n",
    "\n",
    "        for file in agg_file_list:\n",
    "            cur_files = cur_years+file\n",
    "            data = open(cur_files,\"r\")\n",
    "            A = json.load(data)\n",
    "\n",
    "            for i in A[\"data\"][\"transactionData\"]:\n",
    "                name = i[\"name\"]\n",
    "                count = i[\"paymentInstruments\"][0][\"count\"]\n",
    "                amount = i[\"paymentInstruments\"][0][\"amount\"]\n",
    "                columns1[\"Transaction_type\"].append(name)\n",
    "                columns1[\"Transaction_count\"].append(count)\n",
    "                columns1[\"Transaction_amount\"].append(amount)\n",
    "                columns1[\"States\"].append(state)\n",
    "               \n"
   ]
  },
  {
   "cell_type": "code",
   "execution_count": null,
   "metadata": {},
   "outputs": [],
   "source": [
    "aggre_transaction = pd.DataFrame(columns1)"
   ]
  },
  {
   "cell_type": "code",
   "execution_count": 100,
   "metadata": {},
   "outputs": [
    {
     "ename": "NameError",
     "evalue": "name 'aggre_transaction' is not defined",
     "output_type": "error",
     "traceback": [
      "\u001b[1;31m---------------------------------------------------------------------------\u001b[0m",
      "\u001b[1;31mNameError\u001b[0m                                 Traceback (most recent call last)",
      "\u001b[1;32mc:\\Users\\VIGNESH\\Desktop\\Phonepe\\phonepetest.ipynb Cell 4\u001b[0m line \u001b[0;36m1\n\u001b[1;32m----> <a href='vscode-notebook-cell:/c%3A/Users/VIGNESH/Desktop/Phonepe/phonepetest.ipynb#X16sZmlsZQ%3D%3D?line=0'>1</a>\u001b[0m aggre_transaction[\u001b[39m\"\u001b[39m\u001b[39mStates\u001b[39m\u001b[39m\"\u001b[39m] \u001b[39m=\u001b[39m aggre_transaction[\u001b[39m\"\u001b[39m\u001b[39mStates\u001b[39m\u001b[39m\"\u001b[39m]\u001b[39m.\u001b[39mstr\u001b[39m.\u001b[39mreplace(\u001b[39m\"\u001b[39m\u001b[39mandaman-&-nicobar-islands\u001b[39m\u001b[39m\"\u001b[39m,\u001b[39m\"\u001b[39m\u001b[39mAndaman & Nicobar\u001b[39m\u001b[39m\"\u001b[39m)\n\u001b[0;32m      <a href='vscode-notebook-cell:/c%3A/Users/VIGNESH/Desktop/Phonepe/phonepetest.ipynb#X16sZmlsZQ%3D%3D?line=1'>2</a>\u001b[0m aggre_transaction[\u001b[39m\"\u001b[39m\u001b[39mStates\u001b[39m\u001b[39m\"\u001b[39m] \u001b[39m=\u001b[39m aggre_transaction[\u001b[39m\"\u001b[39m\u001b[39mStates\u001b[39m\u001b[39m\"\u001b[39m]\u001b[39m.\u001b[39mstr\u001b[39m.\u001b[39mreplace(\u001b[39m\"\u001b[39m\u001b[39m-\u001b[39m\u001b[39m\"\u001b[39m,\u001b[39m\"\u001b[39m\u001b[39m \u001b[39m\u001b[39m\"\u001b[39m)\n\u001b[0;32m      <a href='vscode-notebook-cell:/c%3A/Users/VIGNESH/Desktop/Phonepe/phonepetest.ipynb#X16sZmlsZQ%3D%3D?line=2'>3</a>\u001b[0m aggre_transaction[\u001b[39m\"\u001b[39m\u001b[39mStates\u001b[39m\u001b[39m\"\u001b[39m] \u001b[39m=\u001b[39m aggre_transaction[\u001b[39m\"\u001b[39m\u001b[39mStates\u001b[39m\u001b[39m\"\u001b[39m]\u001b[39m.\u001b[39mstr\u001b[39m.\u001b[39mtitle()\n",
      "\u001b[1;31mNameError\u001b[0m: name 'aggre_transaction' is not defined"
     ]
    }
   ],
   "source": [
    "aggre_transaction[\"States\"] = aggre_transaction[\"States\"].str.replace(\"andaman-&-nicobar-islands\",\"Andaman & Nicobar\")\n",
    "aggre_transaction[\"States\"] = aggre_transaction[\"States\"].str.replace(\"-\",\" \")\n",
    "aggre_transaction[\"States\"] = aggre_transaction[\"States\"].str.title()\n",
    "aggre_transaction['States'] = aggre_transaction['States'].str.replace(\"Dadra & Nagar Haveli & Daman & Diu\", \"Dadra and Nagar Haveli and Daman and Diu\")"
   ]
  },
  {
   "cell_type": "code",
   "execution_count": 93,
   "metadata": {},
   "outputs": [
    {
     "ename": "NameError",
     "evalue": "name 'columns_1' is not defined",
     "output_type": "error",
     "traceback": [
      "\u001b[1;31m---------------------------------------------------------------------------\u001b[0m",
      "\u001b[1;31mNameError\u001b[0m                                 Traceback (most recent call last)",
      "\u001b[1;32mc:\\Users\\VIGNESH\\Desktop\\Phonepe\\phonepetest.ipynb Cell 3\u001b[0m line \u001b[0;36m1\n\u001b[1;32m----> <a href='vscode-notebook-cell:/c%3A/Users/VIGNESH/Desktop/Phonepe/phonepetest.ipynb#X13sZmlsZQ%3D%3D?line=0'>1</a>\u001b[0m Agg_Transaction \u001b[39m=\u001b[39m pd\u001b[39m.\u001b[39mDataFrame(columns_1)\n",
      "\u001b[1;31mNameError\u001b[0m: name 'columns_1' is not defined"
     ]
    }
   ],
   "source": [
    "Agg_Transaction = pd.DataFrame(columns_1)"
   ]
  }
 ],
 "metadata": {
  "kernelspec": {
   "display_name": ".venv",
   "language": "python",
   "name": "python3"
  },
  "language_info": {
   "codemirror_mode": {
    "name": "ipython",
    "version": 3
   },
   "file_extension": ".py",
   "mimetype": "text/x-python",
   "name": "python",
   "nbconvert_exporter": "python",
   "pygments_lexer": "ipython3",
   "version": "3.11.7"
  }
 },
 "nbformat": 4,
 "nbformat_minor": 2
}
